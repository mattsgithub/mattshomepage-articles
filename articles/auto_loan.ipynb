{
 "cells": [
  {
   "attachments": {},
   "cell_type": "markdown",
   "metadata": {},
   "source": [
    "<i>Is it financially optimal to buy a car in cash?</i>\n",
    "\n",
    "Answers to this question are mixed. I asked my bank lender (they said cash is optimal), but, <a href=\"https://www.fool.com/retirement/2017/12/24/why-you-shouldnt-buy-a-car-in-cash.aspx\">this article</a>, for example, thinks the answer is no. The primary reason why people think buying a car in cash is optimal: to avoid paying interest on an auto loan. But this ignores a concept economists have realized for some time:\n",
    "\n",
    "<b>OPPORTUNITY COST</b>\n",
    "\n",
    "A loan allows you to hold on to your cash _longer_ and have it generate revenue by an investment. If that investment exceeds the interest of an auto loan, then it's better to get a loan (of course, if you would have to deplete your  emergency funds, than you should probably get a loan).\n",
    "\n",
    "Is this _always_ the case? I didn't find any detailed quantitative arguments. So I decided to construct the answer myself.\n",
    "\n",
    "Let's review and derive some of the fundamentals we need to answer this question."
   ]
  },
  {
   "cell_type": "markdown",
   "metadata": {},
   "source": [
    "# Simple Interest\n",
    "\n",
    "What makes simple interest, well--simple, is that the calculation is straightforward. Here's how it works. First, we need to introdude some notation:\n",
    "\n",
    "$P$ [<b>Principal</b><i>: the initial amount invested</i>]\n",
    "\n",
    "$t$ [<b>Time</b>: <i>in years</i>]\n",
    "\n",
    "$r$ [<b>Interest Rate</b><i>: the rate of return--typically annualized (that is, interest rate over one year</i>)\n",
    "\n",
    "$A$ [<b>Amount Due</b>:<i>principal plus cash made from interest</i>]\n",
    "\n",
    "Let's analyze how interest is generated. At the beginning, all we have is is the principal:\n",
    "\n",
    "$A(t=0) = P$\n",
    "\n",
    "Then, after one year, we'll still have our principal. But we'll also have generated some interest:\n",
    "\n",
    "$A(t=1) = P + Pr = P(1 + r)$\n",
    "\n",
    "$A(t=2) = P + Pr + Pr = P(1 + 2r)$\n",
    "\n",
    "...\n",
    "\n",
    "$A = P(1 + rt)$\n",
    "\n",
    "You can use mathematical induction to prove this formally. As an example, banks typically charge for auto loans using simple interest."
   ]
  },
  {
   "cell_type": "markdown",
   "metadata": {},
   "source": [
    "# Compound Interest\n",
    "Compound interest takes the interest yielded and adds it back into the principal. We keep repeating this. Say after one year...\n",
    "\n",
    "$A(t = 1) = P + rP$\n",
    "\n",
    "$A(t = 2) = P + r A(t=1) = r(rP) = P + r^2P = P(1 + r^2)$\n",
    "\n",
    "$A(t = 3) = P + r A(t=2) = r r A(t=1) = P(1 + r^3)$\n",
    "\n",
    "...\n",
    "\n",
    "$A = P(1 + r^t)$\n",
    "\n",
    "However, we assumed that this compounding occurs once a year. What if we compounded at an arbitrary frequency? (e.g. monthly, daily). The modified formula for this would be:\n",
    "\n",
    "$A = P(1 + (\\frac{r}{n})^{nt})$\n",
    "\n",
    "If we let take the limit and let n -> 0, we'd find (transform to log space and use L`Hopitals rules):\n",
    "\n",
    "$A = e^{rt}$\n",
    "\n",
    "That is, the natural _e_ arises!\n",
    "\n",
    "We can write a python function to calculate this for us:"
   ]
  },
  {
   "cell_type": "code",
   "execution_count": 1,
   "metadata": {},
   "outputs": [],
   "source": [
    "def get_compound_interest(P, t, r):\n",
    "    \"\"\"Calculates compound interest\n",
    "    \n",
    "    P (initial principal)\n",
    "    t (time in months)\n",
    "    r (percentage rate)\n",
    "    \"\"\"\n",
    "    return P * ((1. + (r / 100.))**(t / 12.) - 1.)"
   ]
  },
  {
   "cell_type": "markdown",
   "metadata": {},
   "source": [
    "# Amortization\n",
    "When we make montly payments on our auto loan, our montly payment is the sum of paying down our principal and the auto loan interest. But, this distribution changes over time. You pay more interest at first. The derivation is a bit involved (see http://people.cs.uchicago.edu/~jagolbec/cspp536/amort/ ). But what we need from it, is the math that works our exactly what this monthly payment would be given the principal, rate, and number of months of the loan. This formula is:\n",
    "\n",
    "$M = P\\left(\\frac{1 - (1 + r)}{1 - (1 + r)^n} + r \\right)$\n",
    "\n",
    "We can write a function for this in Python"
   ]
  },
  {
   "cell_type": "code",
   "execution_count": 3,
   "metadata": {},
   "outputs": [],
   "source": [
    "def get_monthly_payment(P, t, r):\n",
    "    \"\"\" See http://people.cs.uchicago.edu/~jagolbec/cspp536/amort/\n",
    "        for derivation\n",
    "        \n",
    "    P (initial principal)\n",
    "    t (time in months)\n",
    "    r (percentage rate)\n",
    "    \"\"\"\n",
    "    if t < 0 or P == 0.:\n",
    "        return 0.\n",
    "    \n",
    "    r = r / (100. * 12.)\n",
    "    a = 1. - (1. + r)\n",
    "    b = 1. - (1. + r)**t\n",
    "    M = P * (a / b + r)\n",
    "    return M"
   ]
  },
  {
   "cell_type": "markdown",
   "metadata": {},
   "source": [
    "And with this function, we can easily write another function to calculate total auto interest paid:"
   ]
  },
  {
   "cell_type": "code",
   "execution_count": 4,
   "metadata": {},
   "outputs": [],
   "source": [
    "def get_auto_loan_interest(P, t, r):\n",
    "    if t < 0 or P == 0.:\n",
    "        return 0.\n",
    "    \n",
    "    M = get_monthly_payment(P, t, r)\n",
    "    I = M * t - P\n",
    "    return I"
   ]
  },
  {
   "cell_type": "markdown",
   "metadata": {},
   "source": [
    "# APY\n",
    "A frustating point is trying to compare loans at different compounding frequencies and rates. Fortunately, a normalization technique, is to compute the effective compound interest rate supposing we _had_ compunded yearly. This is known as an APY (annual percentange yield)."
   ]
  },
  {
   "cell_type": "markdown",
   "metadata": {},
   "source": [
    "# Model\n",
    "\n",
    "We want to maximize the cash we'll have in the bank under the condition that we _have_ to purchase the vehicle. The loans we have to choose from will likely have different terms, and auto interest rates.\n",
    "\n",
    "To compare all scenarios on an equal footing, let's assume you have cash to buy the car (denoted as $K_{car}$) plus an amount equal to the auto loan with the highest interest--denoted as $K^{*}_{I}$ (and of course, extra cash for emergency funds--but we won't model this--it's always assumed).\n",
    "\n",
    "We will compare gains at the same time point in time. We'll choose as the largest term out of all loans offered (denoted as $t^{*}$. Time will always be in units of months.\n",
    "\n",
    "Let's calculate our bank account at several time steps:\n",
    "\n",
    "$A(0) = K_{car} + K^{*}_{I} - C_{down payment}$\n",
    "\n",
    "The above term makes sense. It's the cash we have minus the downpayment. Note if we paid cash, then we'd have:\n",
    "\n",
    "$A(0) = K^{*}_{I}$\n",
    "\n",
    "But now, fast forward one month:\n",
    "\n",
    "$A(1) = A(0) + R(1) - C_{p}(1) - C_{i}(1)$\n",
    "\n",
    "What the above equations says, is we have our balance at $A(0)$ plus the revenue we generated from having that cash (i.e., $R(1)$). But then we have to pay out our principal and interest ($C_{p}(1)$ and $C_{i}(1)$ respectively). And notice these quantities are functions of _time_. That is, each month their respective values will change. Finally, at the last time period, we'll have:\n",
    "\n",
    "$A(t^*) = A(t^* - 1) + R(t^*) - C_{p}(t^*) - C_{i}(t^*)$\n",
    "\n",
    "Now, $C_{p}(t^*) - C_{i}(t^*)$ will always equal a fixed amount (i.e., monthly payment)."
   ]
  },
  {
   "cell_type": "markdown",
   "metadata": {},
   "source": [
    "# Revenue Calculation\n",
    "A complication in calculating revenue generated from interest, is that our principal, in general, is not fixed in time. If we take a loan, we have monthly payments drafted out of our account. I think a straightforward way to deal with this, is to calculate the revenue had we not deducted monthly payments. Then adjust accordingly.\n",
    "\n",
    "For example, suppose our balance at t=0 is \\\\$100 and we take \\\\$10 payments out each month. Our balance over time (we are separating out initial principal from revenue generated) will look like the following:"
   ]
  },
  {
   "cell_type": "code",
   "execution_count": 5,
   "metadata": {},
   "outputs": [
    {
     "data": {
      "image/png": "[encoded data removed]",
      "text/plain": [
       "<Figure size 1080x288 with 1 Axes>"
      ]
     },
     "metadata": {
      "needs_background": "light"
     },
     "output_type": "display_data"
    }
   ],
   "source": [
    "import matplotlib.pyplot as plt\n",
    "import matplotlib.ticker as mtick\n",
    "%matplotlib inline\n",
    "\n",
    "# Initial balance, monthly payment, time in months\n",
    "A0, M, t = 100, 10., range(0, 4)\n",
    "\n",
    "_, ax = plt.subplots(1, 1, figsize=(15, 4))\n",
    "plt.step(t, [A0 - i * 10. for i in t], where='post', marker='o')\n",
    "plt.title('Monthly Payments Affects Interest Revenue')\n",
    "plt.ylabel('Balance')\n",
    "plt.xlabel('Time (months)')\n",
    "ax.yaxis.set_major_formatter(mtick.StrMethodFormatter('${x:,.0f}')) \n",
    "plt.show()"
   ]
  },
  {
   "cell_type": "markdown",
   "metadata": {},
   "source": [
    "Let's think about t=3 (i.e., 3 months in). At this point, we have \\\\$70. But let's pretend we never made monthly payments. I'll denote $R_b(t)$ as the revenue generated pretending we never drafted payments. But this overcounts. To adjust, let $R_m(t)$ be the revenue generated from the amount equal to a monthly payment over t months. To calculate the revenue then, it's:\n",
    "\n",
    "$R(t=3) = R_b(t=3) - R_m(t=1) - R_m(t=2)$\n",
    "\n",
    "This works because at t=3, the first monthly payment means we lost out on that revenue that could have been had it sat there for two months. And the second payment means we lost out on revenue that would have been generated out of one month.\n",
    "\n",
    "In general:\n",
    "\n",
    "$R(t) = R_b(t) - \\sum_j^{t-1} R_m(j)$\n",
    "\n",
    "Let's wrap this up into a python function:"
   ]
  },
  {
   "cell_type": "code",
   "execution_count": 6,
   "metadata": {},
   "outputs": [],
   "source": [
    "def get_revenue(P, t, r, M):\n",
    "    Rb = get_compound_interest(P, t, r)\n",
    "    Rm = sum([get_compound_interest(M, j, r) for j in range(1, t)])\n",
    "    R = Rb - Rm\n",
    "    return R"
   ]
  },
  {
   "cell_type": "markdown",
   "metadata": {},
   "source": [
    "Now, let's put this all together to generate how our balance and revenue change over time. When we have these, we can plot two scenarios: one where we took the loan and the other where we paid in cash. The best option will be the one that yields the highest balance in our account."
   ]
  },
  {
   "cell_type": "code",
   "execution_count": 7,
   "metadata": {},
   "outputs": [],
   "source": [
    "def get_monthly_breakdown(car, I_star, downpayment,\n",
    "                          apy, r, term, T):\n",
    "    \n",
    "    # Cacluate the monthly payment\n",
    "    M = get_monthly_payment(car - downpayment,\n",
    "                            term,\n",
    "                            r)\n",
    "    \n",
    "    # Starging balance and revenue\n",
    "    A0 = car + I_star - downpayment\n",
    "    result = {'revenue': [0.],\n",
    "              'balance': [A0],\n",
    "              'time': [0.]}\n",
    "    \n",
    "    # For each month...\n",
    "    A = A0\n",
    "    for t in range(1, T + 1):\n",
    "        R = get_revenue(A0, t, apy, M)\n",
    "        A = A - M if t <= term else A\n",
    "        \n",
    "        result['revenue'].append(R)\n",
    "        result['balance'].append(A + R)\n",
    "        result['time'].append(t)        \n",
    "    return result\n",
    "\n",
    "def plot_result(cash_result, loan_result, T):\n",
    "    plt.clf()\n",
    "    _, ax = plt.subplots(1, 1, figsize=(15, 4))\n",
    "    \n",
    "    t = cash_result['time']\n",
    "    \n",
    "    plt.step(t, cash_result['balance'], color='darkgreen',\n",
    "             where='post', label='Balance (Cash Method)', alpha=0.6)\n",
    "    \n",
    "    plt.step(t, loan_result['balance'], color='darkgray',\n",
    "             where='post', label='Balance (Loan Method)', alpha=0.6)\n",
    "    \n",
    "    plt.legend()\n",
    "    \n",
    "    c, l = cash_result['balance'][-1], loan_result['balance'][-1]\n",
    "    \n",
    "    \n",
    "    plt.title('At {} months, balance would be:\\n' \\\n",
    "              '${:,.2f} (Cash Method)\\n ${:,.2f} (Loan Method)'.format(t[-1], c, l))\n",
    "    plt.ylabel('Dollars ($)')\n",
    "    plt.xlabel('Time (months)')\n",
    "    ax.yaxis.set_major_formatter(mtick.StrMethodFormatter('${x:,.0f}')) \n",
    "    plt.show()"
   ]
  },
  {
   "cell_type": "markdown",
   "metadata": {},
   "source": [
    "Now, let's put in some concrete numbers"
   ]
  },
  {
   "cell_type": "code",
   "execution_count": 8,
   "metadata": {},
   "outputs": [
    {
     "data": {
      "text/plain": [
       "<Figure size 432x288 with 0 Axes>"
      ]
     },
     "metadata": {},
     "output_type": "display_data"
    },
    {
     "data": {
      "image/png": "[encoded data removed]",
      "text/plain": [
       "<Figure size 1080x288 with 1 Axes>"
      ]
     },
     "metadata": {
      "needs_background": "light"
     },
     "output_type": "display_data"
    }
   ],
   "source": [
    "car = 53000.\n",
    "downpayment = 12200.0\n",
    "term = 36\n",
    "T = 36\n",
    "r = 2.89\n",
    "apy = 2.1\n",
    "I_star = get_auto_loan_interest(car - downpayment, term, r)\n",
    "\n",
    "loan_result = get_monthly_breakdown(car=car,\n",
    "                                    I_star=I_star,\n",
    "                                    downpayment=downpayment,\n",
    "                                    apy=apy,\n",
    "                                    r=r,\n",
    "                                    term=term,\n",
    "                                    T=T)\n",
    "\n",
    "cash_result = get_monthly_breakdown(car=car,\n",
    "                                    I_star=I_star,\n",
    "                                    downpayment=car,\n",
    "                                    apy=apy,\n",
    "                                    r=r,\n",
    "                                    term=term,\n",
    "                                    T=T)\n",
    "\n",
    "plot_result(cash_result, loan_result, T + 1)"
   ]
  },
  {
   "cell_type": "markdown",
   "metadata": {},
   "source": [
    "Assuming there are no mistakes in my code (nor mistakes in the derivation), it seems for this scenario, it's actually better to pay in cash. We could lower the auto loan rate a bit more to find a situation where taking a loan is better:"
   ]
  },
  {
   "cell_type": "code",
   "execution_count": 9,
   "metadata": {},
   "outputs": [
    {
     "data": {
      "text/plain": [
       "<Figure size 432x288 with 0 Axes>"
      ]
     },
     "metadata": {},
     "output_type": "display_data"
    },
    {
     "data": {
      "image/png": "[encoded data removed]",
      "text/plain": [
       "<Figure size 1080x288 with 1 Axes>"
      ]
     },
     "metadata": {
      "needs_background": "light"
     },
     "output_type": "display_data"
    }
   ],
   "source": [
    "r = 2.07\n",
    "I_star = get_auto_loan_interest(car - downpayment, term, r)\n",
    "\n",
    "loan_result = get_monthly_breakdown(car=car,\n",
    "                                    I_star=I_star,\n",
    "                                    downpayment=downpayment,\n",
    "                                    apy=apy,\n",
    "                                    r=r,\n",
    "                                    term=term,\n",
    "                                    T=T)\n",
    "\n",
    "cash_result = get_monthly_breakdown(car=car,\n",
    "                                    I_star=I_star,\n",
    "                                    downpayment=car,\n",
    "                                    apy=apy,\n",
    "                                    r=r,\n",
    "                                    term=term,\n",
    "                                    T=T)\n",
    "\n",
    "plot_result(cash_result, loan_result, T + 1)"
   ]
  },
  {
   "cell_type": "markdown",
   "metadata": {},
   "source": [
    "We can think of the auto loan reaching a critical point where taking the loan would be optimal (same argument applies to other parameters) "
   ]
  },
  {
   "cell_type": "markdown",
   "metadata": {},
   "source": [
    "# Comparing Loans\n",
    "Now, for the finale, let's construct a function that allows a user to enter the different types of loans offered, and have it pick the optimal decision."
   ]
  },
  {
   "cell_type": "code",
   "execution_count": 10,
   "metadata": {},
   "outputs": [],
   "source": [
    "def get_outcomes(car, apy, loans):\n",
    "    # Find longest term offered\n",
    "    T = max([l['term'] for l in loans])\n",
    "    \n",
    "    # Find loan with largest interest\n",
    "    I_star = max([get_auto_loan_interest(car - l['downpayment'], l['term'], l['apr'])\n",
    "                  for l in loans])\n",
    "    \n",
    "    def get_name(l):\n",
    "        return ''.join(['{}_{}_'.format(k,v) for k,v in l.items()])\n",
    "        \n",
    "    y = []\n",
    "    for l in loans:\n",
    "        result = get_monthly_breakdown(car, I_star, l['downpayment'],\n",
    "                                       apy, l['apr'], l['term'], T)\n",
    "        y.append((get_name(l), result['balance'][-1]))\n",
    "        \n",
    "    return y"
   ]
  },
  {
   "cell_type": "code",
   "execution_count": 11,
   "metadata": {},
   "outputs": [
    {
     "data": {
      "text/plain": [
       "[('term_60_apr_3.89_downpayment_8000.0_', 2807.4344508792274),\n",
       " ('term_36_apr_2.89_downpayment_12200.0_', 3958.7110204710066),\n",
       " ('term_0_apr_0_downpayment_53000.0_', 5093.390593279506)]"
      ]
     },
     "execution_count": 11,
     "metadata": {},
     "output_type": "execute_result"
    }
   ],
   "source": [
    "car = 53000.\n",
    "apy = 2.1\n",
    "loans = [{'term': 60, 'apr': 3.89, 'downpayment': 8000.},\n",
    "         {'term': 36, 'apr': 2.89, 'downpayment': 12200.0},\n",
    "         {'term': 0, 'apr': 0, 'downpayment': car}]\n",
    "\n",
    "get_outcomes(car, apy, loans)"
   ]
  },
  {
   "cell_type": "markdown",
   "metadata": {},
   "source": [
    "Given these numbers, paying in cash would again be the optimal decision."
   ]
  }
 ],
 "metadata": {
  "kernelspec": {
   "display_name": "Python 3",
   "language": "python",
   "name": "python3"
  },
  "language_info": {
   "codemirror_mode": {
    "name": "ipython",
    "version": 3
   },
   "file_extension": ".py",
   "mimetype": "text/x-python",
   "name": "python",
   "nbconvert_exporter": "python",
   "pygments_lexer": "ipython3",
   "version": "3.7.0"
  }
 },
 "nbformat": 4,
 "nbformat_minor": 2
}
