{
 "cells": [
  {
   "cell_type": "markdown",
   "metadata": {},
   "source": [
    "This article reviews the paper:\n",
    "\n",
    "<b><a href=\"https://ftp.cs.ucla.edu/pub/stat_ser/R290-A.pdf\">A General Identification Condition for Causal Effects</a></b>\n",
    "\n",
    "This paper is authored by Jin Tian (Iowa State University) and Judea Pearl (UCLA). I also provide code in Python to implement the ideas in their paper. This is not an introduction to causal inference or do-calculus. See http://www.michaelnielsen.org/ddi/if-correlation-doesnt-imply-causation-then-what-does/ for an introduction."
   ]
  },
  {
   "cell_type": "markdown",
   "metadata": {},
   "source": [
    "# Background "
   ]
  },
  {
   "cell_type": "markdown",
   "metadata": {},
   "source": [
    "On 1995, Pearl published a paper in Biometrika (a journal started by Karl Pearson!) that gave three rules to identify causal effects (<a href=\"#pearl_1995\">Pearl, 1995</a>) assuming a DAG is provided."
   ]
  },
  {
   "cell_type": "markdown",
   "metadata": {},
   "source": [
    "### Three Rules of Do-Calculus\n",
    "\n",
    "#### Rule 1 (Insertion/Deletion of Observations)\n",
    "$(Y \\perp Z| X, W)_{G_{\\overline{X}}}$ ==> $P(Y|do(X), Z, W) = P(Y | do(X), W)$\n",
    "\n",
    "#### Rule 2 (Action/Observation Exchange)\n",
    "$(Y \\perp Z | Z, W)_{G_{\\overline{X} \\underline{Z}}}$ ==> $P(Y|do(X), do(Z), W) = P(Y | do(X), Z, W)$\n",
    "\n",
    "#### Rule 3 (Insertion/Deletion of Actions)\n",
    "$(Y \\perp Z | X, W)_{G_{\\overline{X} \\overline{Z(W)}}}$ ==> $P(Y|do(X), do(Z), W) = P(Y | do(X), W)$"
   ]
  },
  {
   "cell_type": "markdown",
   "metadata": {},
   "source": [
    "(${G_{\\overline{X}}}$ is a graph where all incoming arrows to $X$ are deleted. ${G_{\\underline{X}}}$ is a graph where all outgoing arrows from $X$ are deleted.)\n",
    "\n",
    "The rules above are sufficient, but not necessary. Ilya Shpitser reminded Pearl that Huang and Valtorta proved that rule 1 follows from rules 2 and 3. (see comment post by Pearl at bottom page (<a href=\"#nielsen_2012\">Nielsen and Pearl, 2012</a>), (<a href=\"#huang_2006\">Huang and Valtora, 2006</a>))"
   ]
  },
  {
   "cell_type": "markdown",
   "metadata": {},
   "source": [
    "Pearl proved identfiability for a few special cases (<a href=\"#pearl_1995\">Pearl, 1995</a>). But for any DAG with a mixture of latent and non-latent variables, is identification always possible? The answer is yes. But the answer would have to wait until 2006 when two independent papers provided the proof (See <a href=\"#shpitser_2006\">Shpitser and Pearl, 2006</a>) and <a href=\"#huang_2006\">Huang and Valtorta, 2006</a>).\n",
    "\n",
    "\n",
    "So what is this paper about? This paper by Jin Tian appears to be an early precursor to the general case. It proves identifability under a few assumptions.\n",
    "\n",
    "### Assumptions\n",
    "* The DAG is known a priori\n",
    "* Every latent node in the DAG, has exactly two non-latent children and no parents (this is called a _semi-Markov_ model)\n",
    "* For the do-query of $P(V | do(X))$ interest, X is a singleton (i.e., one variable only)\n",
    "\n",
    "\n",
    "OK, with those assumptions noted. We just need to review some jargon necessary before diving into this paper."
   ]
  },
  {
   "cell_type": "markdown",
   "metadata": {},
   "source": [
    "### Jargon\n",
    "<b>Semi-markov Model:</b> A DAG such where all latent nodes have no parents and each have exactly two children.\n",
    "\n",
    "\n",
    "<b>Component:</b> If parts of a graph are disconnected from the rest of the network, we call that a component. You can think of the number of components equaling the \"islands\" in a graph. That is, subgraphs disconnected from the rest of the graph.\n",
    "\n",
    "<b>Bidirected Arrow:</b> When two non-latent nodes share a latent parent, you can draw directed arrows toward the children. Or, you can simply connect the children via a bidirected arrow. The line is drawn as a dashed line. (See Figure 1 below which was taken from the paper)\n",
    "\n",
    "<b>pa function</b> The $pa$ function returns the set of variables that are parents of the inputted node (e.g., in figure 1, $pa(Z_1) = \\{X, Z_2\\}$\n",
    "\n",
    "<b>ch function</b> The $ch$ function returns the set of variables that are children of the inputted node (e.g., in figure 1, $pa(Z_1) = \\{Y\\}$\n",
    "\n",
    "<b>pa_u function</b> The $pa_u$ operator returns the set of variables that are parents of the inputted node but only keeps the hidden parents (i.e., filters out all observable ones)\n",
    "\n",
    "<b>Bidirected Path:</b> A path connected by bidirected arrows\n",
    "\n",
    "<b>Latent Variable:</b> A variable which cannot be observed given the data (e.g., the mental health state of a person's mind)"
   ]
  },
  {
   "cell_type": "markdown",
   "metadata": {},
   "source": [
    "<img src=\"{static}/images/bidirected.png\" style=\"height:200px\">"
   ]
  },
  {
   "cell_type": "markdown",
   "metadata": {},
   "source": [
    "As a quick example, in the above figure (taken from their paper), $X$ and $Z_2$ actually have a common parent (a latent one). Instead of drawing it, we denote that $X$ and $Z_2$ are both confounded by drawing this dash bidrected arrow."
   ]
  },
  {
   "cell_type": "markdown",
   "metadata": {},
   "source": [
    "### Intervention\n",
    "\n",
    "And finally, we should review some quick theory before their results will make sense.\n",
    "\n",
    "For a semi-markovian DAG, we can _always_ write the joint as:\n",
    "\n",
    "$P(U, V) =  P(U) \\prod_{i} P(v_i | pa(x_i), pa_u(x_i))$\n",
    "\n",
    "Where $U$ is the set of latent nodes and $V$ is the set of non-latent nodes (i.e., the ones we have data for).\n",
    "\n",
    "The above equation always work due to the assumptions of the semi-Markovian model. Remember, the joint distribution of the latent is independent of the observables (therefore, it factorizes out). Now, we can marginalize out the latent nodes:\n",
    "\n",
    "$P(V) =  \\sum_U \\prod_{i} P(v_i | pa(x_i), pa_u(x_i)) P(U)$\n",
    "\n",
    "Now, what would be the causal effect under this equation? Well, under an intervention, the term $P(X = x_0 | pa(X))$ is set to a specific state. Let's call this state say, $x_0$. This means that $P(X = x_0 | pa(X)) = 1$. Why? Because we set it, so the probability of that state must be 1. This also means everywhere $X$ appears, it must now also assume the value $x_0$.\n",
    "\n",
    "$P(V | do(X)) =  \\sum_U \\prod_{\\{i | V_i \\ne X \\}} P(v_i | pa(x_i), pa_u(x_i)) P(U)$\n",
    "\n",
    "\n",
    "The above is the causal estimand. Note that it \"skips\" over the $X$ since that value is now just 1. Also, notice it's not necessariliy estimable! That is, not identiable. And the reason is, is that it depends on knowledge of $U$. Because some of the factors, are conditioned on that. But, if we can show they can be marganlized out, and we only left with probability statements that only involve $V$, then we win. We have identifability."
   ]
  },
  {
   "cell_type": "markdown",
   "metadata": {},
   "source": [
    "# Identification\n",
    "\n",
    "Tian and Pearl broke the task of identification into a few cases. Each case builds up to a more complex case, but helps build intution into what we are doing.\n",
    "\n",
    "\n",
    "## The Easy Case\n",
    "\n",
    "If $X$ has no latent parents, we can calculate the causal effect.\n",
    "\n",
    "#### The Proof\n",
    "For the case where $X$ has no latent parents. We can factor it out of the joint distribution, and, we can drop the $pa_u(x_i)$ conditioning statement (i.e., $P(X) = P(X | pa(X), pa_u(X)) = P(X | pa(X))$):\n",
    "\n",
    "We are now left with:\n",
    "\n",
    "$P(V) = \\sum_U P(X | pa(X)) \\prod_{\\{i | V_i \\ne X \\}} P(V_i | pa(V_i), pa_u(V_i)) P(U)$\n",
    "\n",
    "But this is nothing more than:\n",
    "\n",
    "$P(V) = P(X | pa(X)) P(V | do(X))$\n",
    "\n",
    "or:\n",
    "\n",
    "$P(V | do(X)) = \\frac{P(V)}{P(X | pa(X))}$\n",
    "\n",
    "And that's it, we have identfiability! Because the R.H.S contains no do-statements. So this estimand is identiable with observational data."
   ]
  },
  {
   "cell_type": "markdown",
   "metadata": {},
   "source": [
    "## The More Interesting Case\n",
    "\n",
    "#### What's the statement?\n",
    "If $X$ children do not have latent parents, then we can calculate the casual effect.\n",
    "\n",
    "#### The Proof\n",
    "Let's revist our observable joint distribution:\n",
    "\n",
    "$P(V) = \\sum_U \\prod_{i} P(V_i | pa(V_i), pa_u(V_i)) P(U)$\n",
    "\n",
    "Since the children do not have latent parents, they can be moved out of the sum\n",
    "\n",
    "$P(V) = \\prod_{i \\in ch(X)} P(V_i | pa(V_i)) \\sum_U P(X | pa(X), pa_u(X)) \\prod_{i \\in S} P(V_i | pa(V_i), pa_u(V_i)) P(U)$\n",
    "\n",
    "where $S = V - (X \\cup ch(X))$. That is, $S$ is a subset of variables of $V$ since we took out $X$ and it's children. How, if we divide both sides by $P(X | pa(X), pa_u(X))$ we get the causal estimand of interest:\n",
    "\n",
    "$P(V | do(X)) = \\prod_{i \\in ch(X)} P(V_i | pa(V_i)) \\sum_U \\prod_{i \\in S} P(V_i | pa(V_i), pa_u(V_i)) P(U)$\n",
    "\n",
    "How, just need to $\\sum_U \\prod_{i \\in S} P(V_i | pa(V_i), pa_u(V_i)) P(U)$ in terms of observables. The trick Tian uses, is the observation that:\n",
    "\n",
    "$ \\sum_X P(X | pa(X), pa_u(X)) = 1$\n",
    "\n",
    "Let's fold that in:\n",
    "\n",
    "\n",
    "$P(V | do(X)) = \\prod_{i \\in ch(X)} P(V_i | pa(V_i)) \\sum_X \\sum_U P(X | pa(X), pa_u(X)) \\prod_{i \\in S} P(V_i | pa(V_i), pa_u(V_i)) P(U)$\n",
    "\n",
    "Now, realize that:\n",
    "\n",
    "$\\sum_U P(X | pa(X), pa_u(X)) \\prod_{i \\in S} P(V_i | pa(V_i), pa_u(V_i)) P(U)$\n",
    "\n",
    "is:\n",
    "\n",
    "\n",
    "$\\frac{P(V)}{\\prod_{i \\in ch(X)} P(V_i | pa(V_i))}$\n",
    "\n",
    "Since it's the joint over the observables with the X children factors missing (recall, the manipulated graph makes these terms go to 1 since we took action)\n",
    "\n",
    "Thus:\n",
    "\n",
    "$P(V | do(X)) = \\prod_{i \\in ch(X)} P(V_i | pa(V_i)) \\sum_X \\frac{P(V)}{\\prod_{i \\in ch(X)} P(V_i | pa(V_i))}$\n",
    "\n",
    "And we are done! The causal estimand is in terms of all observables. Which concludes the proof for this case."
   ]
  },
  {
   "cell_type": "markdown",
   "metadata": {},
   "source": [
    "## The General Case\n",
    "\n",
    "Now, for the general case! The trick to proving the general case here is to introduce the idea of \"c-components\".\n",
    "\n",
    "\n",
    "### C-Component\n",
    "C-component is short for \"confounded component\". If you cut a graph into pieces, each piece is called a component. You can consider the graph itself as a component, but that's not a very interesting case.\n",
    "\n",
    "Let's go back to our main equation for a second:\n",
    "\n",
    "$P(V) = \\sum_U \\prod_{i} P(V_i | pa(V_i), pa_u(V_i)) P(U)$\n",
    "\n",
    "The idea here is to partition $V$ into disjoint groups (that is, say $V_j$ can only appear in one of the groups, not both). We partition them according to the following idea. Let's say $V_1$ shares a latent parent with $V_2$, then, $V_1$ and $V_2$ will end up in the same partition. Also, suppose $V_3$ shares a latent parent with $V_2$. Then $V_3$ also gets to be in the group. So what you do, is take the longest walk possible such that you are always walking on a bidirected path. For each variable you visit, you include that in the c-component.\n",
    "\n",
    "But what about sets of variables that don't have latent parents? In that case, each variable gets to be in its own group.\n",
    "\n",
    "Let's denote the set of each c-component as $S_j$. And also, from this set, find all its latents parents. The set of latent parents of $S_j$ will be denoted as $N_j$. Now, the factors associated with this c-component all get multiplied together and we call this final factor the c-factor:\n",
    "\n",
    "\n",
    "$Q_j = \\sum_{N_j} \\prod_{i | V_i \\in S_j } P(V_i | pa(V_i), pa_u(V_i)) P(N_j)$\n",
    "\n",
    "And since all c-components are disjoint: \n",
    "\n",
    "$P(V) =  \\prod_{j}  Q_j$\n",
    "\n",
    "OK! So it looks all we've done is introduced some new notation and complicated things. And that's true so far, but the key insight here is that it can be shown that each $Q_j$ can be computed with an equation that contains no latent variables. How to get this equation?\n",
    "\n",
    "First, we order all observable variables by their topological order. If you think of each node in the DAG as a task that needs to run (where the parent is the task's dependency), and we want to run each task in serial, then the ordering gives us the serial sequence. Here's an example below:"
   ]
  },
  {
   "cell_type": "code",
   "execution_count": 1,
   "metadata": {},
   "outputs": [
    {
     "data": {
      "text/plain": [
       "['A3', 'A2', 'A1', 'B2', 'C1', 'B1']"
      ]
     },
     "execution_count": 1,
     "metadata": {},
     "output_type": "execute_result"
    }
   ],
   "source": [
    "import networkx as nx\n",
    "dag = nx.DiGraph()\n",
    "dag.add_nodes_from(['A1', 'A2', 'A3'])\n",
    "dag.add_edge('A1', 'B1')\n",
    "dag.add_edge('A1', 'B2')\n",
    "dag.add_edge('A2', 'B1')\n",
    "dag.add_edge('A3', 'B2')\n",
    "dag.add_edge('B2', 'C1')\n",
    "nx.draw(dag, with_labels=True, style = 'solid',\n",
    "        font_weight='bold', font_size=15,\n",
    "        font_color='black',\n",
    "        node_color='white', arrowsize=30)\n",
    "\n",
    "# Print topological order\n",
    "[n for n in nx.topological_sort(dag)]"
   ]
  },
  {
   "cell_type": "markdown",
   "metadata": {},
   "source": [
    "So now back to our general DAG, let the topological order of our observable variables be:\n",
    "\n",
    "$V^{(i)} = \\{V_1, ..., V_i\\}$\n",
    "\n",
    "Where the i index denotes we include all variables up to and including $i$. Thus, the full topological order is $V^{(N)}$ where there are $N$ observable nodes in the graph. Now, suppose we consider $N$ subgraphs such that each subgraph is $G_{V^{(i)}}$. Then, Tian and Pearl prove that:\n",
    "\n",
    "$Q_j = \\prod_{i \\in S_j} P(V_i | (pa(T_i) - V_i))$\n",
    "\n",
    "where $T_i$ is the c-component for $V_i$ in the graph $G_{V^{(i)}}$\n",
    "\n",
    "So, what we do is iterate through our order. And for each induced subgraph, compute the c-components. If we do this, we have all we need to calculate $Q_j$. Notice that this in terms of observable quantities. Thus, each factor is identifiable. \n",
    "\n",
    "The proof uses mathematical induction and this this article is already rather long. Perhaps I will edit this article in the future, to walk through this proof.\n",
    "\n",
    "Remember, we are after $P(V | do(X))$. Denote the c-factor that contains $X$ as $Q^X$. Then, the proof shows that:\n",
    "\n",
    "$P_{X}(V) = (\\sum_x Q^X) \\frac{P(V)}{Q^X}$\n",
    "\n",
    "but only if $X$ shares no latent parent with any of its children."
   ]
  },
  {
   "cell_type": "markdown",
   "metadata": {},
   "source": [
    "# Implementation\n",
    "\n",
    "We can put these ideas into code now. We can leverage the python package networkx for all the graph operations."
   ]
  },
  {
   "cell_type": "markdown",
   "metadata": {},
   "source": [
    "The functions below generate example DAGs from the paper:"
   ]
  },
  {
   "cell_type": "code",
   "execution_count": 2,
   "metadata": {},
   "outputs": [],
   "source": [
    "import matplotlib.pyplot as plt\n",
    "\n",
    "def get_simple_graph():\n",
    "    dag = nx.DiGraph()\n",
    "    \n",
    "    dag.add_nodes_from(['X', 'Y', 'Z'], latent=False)\n",
    "    \n",
    "    dag.add_edge('Z', 'X')\n",
    "    dag.add_edge('Z', 'Y')\n",
    "    dag.add_edge('X', 'Y')\n",
    "    \n",
    "    return dag\n",
    "\n",
    "def get_example_figure_1_graph():\n",
    "    dag = nx.DiGraph()\n",
    "    \n",
    "    dag.add_nodes_from(['X', 'Z1', 'Z2', 'Z3', 'Y'], latent=False)\n",
    "    dag.add_nodes_from(['U1', 'U2', 'U3', 'U4'], latent=True)\n",
    "    \n",
    "    dag.add_edge('U1', 'X')\n",
    "    dag.add_edge('U1', 'Z2')\n",
    "    dag.add_edge('U2', 'X')\n",
    "    dag.add_edge('U2', 'Z3')\n",
    "    dag.add_edge('U3', 'X')\n",
    "    dag.add_edge('U4', 'Z2')\n",
    "    dag.add_edge('U4', 'Y')\n",
    "    dag.add_edge('U3', 'Y')\n",
    "    dag.add_edge('Z1', 'Y')\n",
    "    dag.add_edge('Z2', 'X')\n",
    "    dag.add_edge('Z2', 'Z1')\n",
    "    dag.add_edge('Z2', 'Z3')\n",
    "    dag.add_edge('Z3', 'Y')\n",
    "    dag.add_edge('X', 'Z1')\n",
    "    \n",
    "    return dag\n",
    "\n",
    "\n",
    "def get_example_figure_2_graph():\n",
    "    dag = nx.DiGraph()\n",
    "    \n",
    "    dag.add_nodes_from(['X', 'Z1', 'Z2', 'Y'], latent=False)\n",
    "    dag.add_nodes_from(['U1', 'U2'], latent=True)\n",
    "\n",
    "    dag.add_edge('U1', 'X')\n",
    "    dag.add_edge('U1', 'Z2')\n",
    "    dag.add_edge('U2', 'Z1')\n",
    "    dag.add_edge('U2', 'Y')\n",
    "    dag.add_edge('X', 'Z1')\n",
    "    dag.add_edge('Z1', 'Y')\n",
    "    dag.add_edge('Z2', 'Y')\n",
    "    \n",
    "    return dag\n",
    "\n",
    "\n",
    "def get_example_figure_3_graph():\n",
    "    G = nx.DiGraph()\n",
    "\n",
    "    G.add_nodes_from(['X1', 'X2', 'X3', 'X4', 'Y'], latent=False)\n",
    "    G.add_nodes_from(['U1', 'U2', 'U3'], latent=True)\n",
    "\n",
    "    G.add_edge('U1', 'X1')\n",
    "    G.add_edge('U1', 'X3')\n",
    "    G.add_edge('U2', 'X2')\n",
    "    G.add_edge('U2', 'X4')\n",
    "    G.add_edge('U3', 'X3')\n",
    "    G.add_edge('U3', 'Y')\n",
    "    G.add_edge('X1', 'X2')\n",
    "    G.add_edge('X2', 'X3')\n",
    "    G.add_edge('X3', 'X4')\n",
    "    G.add_edge('X4', 'Y')\n",
    "    \n",
    "    return G\n",
    "\n",
    "def draw(dag):\n",
    "    nx.draw(dag, with_labels=True,\n",
    "        style = 'solid',\n",
    "        edge_color=['red' if dag.nodes[e[0]]['latent'] else 'gray' for e in dag.edges],\n",
    "        font_weight='bold', font_size=15, font_color='black',\n",
    "        node_color='white', arrowsize=30)"
   ]
  },
  {
   "cell_type": "markdown",
   "metadata": {},
   "source": [
    "For example, let's draw the figure 3 graph:"
   ]
  },
  {
   "cell_type": "code",
   "execution_count": 3,
   "metadata": {},
   "outputs": [
    {
     "data": {
      "image/png": "[encoded data removed]",
      "text/plain": [
       "<Figure size 432x288 with 1 Axes>"
      ]
     },
     "metadata": {},
     "output_type": "display_data"
    }
   ],
   "source": [
    "draw(get_example_figure_3_graph())"
   ]
  },
  {
   "cell_type": "markdown",
   "metadata": {},
   "source": [
    "I use the red arrows to denote that its being emitted from a latent parent. Now, we need the following code to implement the algorithm:"
   ]
  },
  {
   "cell_type": "code",
   "execution_count": 4,
   "metadata": {},
   "outputs": [],
   "source": [
    "def is_semi_markovian(dag):\n",
    "    \"\"\"Tests if DAG is semi-markovian\"\"\"\n",
    "    # Are all latent variables root nodes?\n",
    "    for n in get_latent_nodes(dag):\n",
    "        if dag.in_degree(n) != 0:\n",
    "            return False\n",
    "    return True\n",
    "\n",
    "\n",
    "def validate_dag(dag):\n",
    "    # Is the graph a dag?\n",
    "    if not nx.is_directed_acyclic_graph(dag):\n",
    "        raise ValueError('Graph must be a DAG')\n",
    "             \n",
    "    # Are all latent variables root nodes?\n",
    "    if not is_semi_markovian(dag):\n",
    "        raise ValueError('Latent node {} has a parent'.format(n))\n",
    "        \n",
    "def validate_identify_args(dag, X):\n",
    "    if dag.nodes[X]['latent']:\n",
    "        return 'X is latent'\n",
    "    \n",
    "    \n",
    "def get_latent_nodes(dag):\n",
    "    return {n[0] for n in dag.nodes.data('latent') if n[1]}\n",
    "\n",
    "\n",
    "def get_parents_of_children(dag, X):\n",
    "    # Get all parents of children\n",
    "    # but do not include X itself\n",
    "    parents_of_children = set()\n",
    "    \n",
    "    X_children = set(dag.successors(X))\n",
    "    \n",
    "    for c in X_children:\n",
    "        c_parents = set(dag.predecessors(c))\n",
    "        parents_of_children = parents_of_children.union(c_parents)\n",
    "\n",
    "    if X in parents_of_children:\n",
    "        parents_of_children.remove(X)\n",
    "    return parents_of_children\n",
    "\n",
    "def get_c_components(dag, U):\n",
    "    \"\"\"Assumes dag is semi-markovian\"\"\"\n",
    "    H = dag.copy()\n",
    "    \n",
    "    # Remove all edges\n",
    "    for e in dag.edges:\n",
    "        if not dag.nodes[e[0]]['latent']:\n",
    "            H.remove_edge(*e)\n",
    "\n",
    "    # Delete all edges NOT connected to latent variables\n",
    "    H = H.to_undirected()\n",
    "    for nodes in nx.connected_components(H.to_undirected()):\n",
    "        Ui = nodes.intersection(U)\n",
    "        Oi = nodes.difference(U)\n",
    "        yield (Ui, Oi)"
   ]
  },
  {
   "cell_type": "code",
   "execution_count": 6,
   "metadata": {},
   "outputs": [],
   "source": [
    "def identify(dag, X):\n",
    "    \"\"\"Identification algorithm\n",
    "    \n",
    "    We test for the three cases and return\n",
    "    the causal estimand. Otherwise, None is returned\n",
    "    which is interpreted as not being identifiable\n",
    "    \"\"\"\n",
    "    # Unidentifiable is X is latent\n",
    "    if X not in dag.nodes:\n",
    "        raise ValueError('{} is not in DAG'.format(X))\n",
    "        return None\n",
    "    \n",
    "    # Unidentifiable is X is latent\n",
    "    if dag.nodes[X]['latent']:\n",
    "        return None\n",
    "    \n",
    "    # Make sure DAG and args meets conditions\n",
    "    # specified by theory\n",
    "    validate_dag(dag)\n",
    "    \n",
    "    # Get the latent and observable nodes\n",
    "    latent_nodes = get_latent_nodes(dag)\n",
    "    obs_nodes = set(dag.nodes).difference(latent_nodes)\n",
    "    \n",
    "    X_parents = set(dag.predecessors(X))\n",
    "    X_children = set(dag.successors(X))\n",
    "    \n",
    "    # All except X\n",
    "    V = obs_nodes.difference({X})\n",
    "\n",
    "    expression = _first_test(dag, X, latent_nodes, V, X_parents)\n",
    "    if expression is not None:\n",
    "        return expression\n",
    "    \n",
    "    expression = _second_test(dag, X, V, obs_nodes, latent_nodes, X_parents, X_children)\n",
    "    if expression is not None:\n",
    "        return expression\n",
    "\n",
    "    expression = _general_test(dag, V, X_parents, X_children, latent_nodes)\n",
    "    \n",
    "    return expression\n",
    "\n",
    "\n",
    "def _first_test(dag, X, latent_nodes, V, X_parents):\n",
    "    \n",
    "    expression = None\n",
    "    \n",
    "    # Useful later, for returned causal estimand expression\n",
    "    X_parents_str = ','.join(X_parents)\n",
    "    V_str = ','.join(V)\n",
    "    \n",
    "    has_no_latent_parents = len(X_parents.intersection(latent_nodes)) == 0\n",
    "    \n",
    "    if has_no_latent_parents:\n",
    "        # Are there parents?\n",
    "        if len(X_parents) > 0:\n",
    "            expression = 'P({0}) / P({1}|{2})'.format(V_str, X, X_parents_str)\n",
    "        else:\n",
    "            expression = 'P({0}) / P({1}|)'.format(V_str, X)\n",
    "        \n",
    "    return expression\n",
    "\n",
    "\n",
    "def _second_test(dag, X, V, obs_nodes, latent_nodes, X_parents, X_children):\n",
    "    # Do the children of X share any latent parents with X?\n",
    "    # If not, we can apply theory\n",
    "    parents_of_children = get_parents_of_children(dag, X)\n",
    "    \n",
    "    common_parents = X_parents.intersection(parents_of_children)\n",
    "    does_not_share_latent_parents = len(latent_nodes.intersection(common_parents)) == 0\n",
    "    \n",
    "    if does_not_share_latent_parents:\n",
    "        v_str = ','.join(V)\n",
    "        X_parents_str = ','.join(X_parents)\n",
    "                \n",
    "        children_factors = ''\n",
    "        for c in X_children:\n",
    "            c_parents = set(dag.predecessors(c))\n",
    "            c_parents_str = ','.join(c_parents)\n",
    "            if len(c_parents) > 0:\n",
    "                children_factors += 'P({0}|{1})'.format(c, c_parents_str)\n",
    "            else:\n",
    "                children_factors += 'P({0})'.format(c)\n",
    "                \n",
    "        obs_joint_str = 'P(' + ','.join(obs_nodes) + ')'\n",
    "        \n",
    "        if len(X_children) > 0:\n",
    "            expression = children_factors + ' SUM_' + X + \\\n",
    "                         ' ' + obs_joint_str + ' / [' + children_factors + ']'\n",
    "        else:\n",
    "            expression = children_factors + ' SUM_' + X + ' ' + obs_joint_str\n",
    "        \n",
    "        return expression\n",
    "    \n",
    "    \n",
    "def _general_test(dag, V, X_parents, X_children, latent_nodes):\n",
    "    # Is there a common latent parent with X and its children?\n",
    "    # if so, we cannot use the mathematical result\n",
    "    \n",
    "    # Get all latent parents of the children\n",
    "    X_latent_parents = X_parents.intersection(latent_nodes)\n",
    "    \n",
    "    C_latent_parents = set()\n",
    "    for c in X_children:\n",
    "        C_latent_parents = C_latent_parents.union(set(dag.predecessors(c)))\n",
    "    C_latent_parents = C_latent_parents.intersection(latent_nodes)\n",
    "    \n",
    "    if len(X_latent_parents.intersection(C_latent_parents)) > 0:\n",
    "        return\n",
    "    \n",
    "    # Arrange by topological order\n",
    "    V = [n for n in nx.topological_sort(dag) if n in V]\n",
    "    for i in range(len(V)):\n",
    "        dag_c = dag.subgraph(V[:i])\n",
    "        \n",
    "        for Ui, Oi in get_c_components(dag_c, latent_nodes):\n",
    "            print(Ui, Oi)"
   ]
  },
  {
   "cell_type": "code",
   "execution_count": 7,
   "metadata": {},
   "outputs": [
    {
     "data": {
      "text/plain": [
       "'P(X2|U2,X1) SUM_X1 P(X2,X3,X4,X1,Y) / [P(X2|U2,X1)]'"
      ]
     },
     "execution_count": 7,
     "metadata": {},
     "output_type": "execute_result"
    },
    {
     "data": {
      "image/png": "[encoded data removed]",
      "text/plain": [
       "<Figure size 432x288 with 1 Axes>"
      ]
     },
     "metadata": {},
     "output_type": "display_data"
    }
   ],
   "source": [
    "dag = get_example_figure_3_graph()\n",
    "draw(dag)\n",
    "identify(dag, 'X1')"
   ]
  },
  {
   "cell_type": "markdown",
   "metadata": {},
   "source": [
    "# Trying It Out"
   ]
  },
  {
   "cell_type": "code",
   "execution_count": 8,
   "metadata": {},
   "outputs": [
    {
     "data": {
      "text/plain": [
       "'P(Z,Y) / P(X|Z)'"
      ]
     },
     "execution_count": 8,
     "metadata": {},
     "output_type": "execute_result"
    },
    {
     "data": {
      "image/png": "[encoded data removed]",
      "text/plain": [
       "<Figure size 432x288 with 1 Axes>"
      ]
     },
     "metadata": {},
     "output_type": "display_data"
    }
   ],
   "source": [
    "dag = get_simple_graph()\n",
    "draw(dag)\n",
    "identify(dag, 'X')"
   ]
  },
  {
   "cell_type": "code",
   "execution_count": 9,
   "metadata": {},
   "outputs": [
    {
     "data": {
      "text/plain": [
       "'P(Z1|Z2,X) SUM_X P(X,Z2,Z3,Z1,Y) / [P(Z1|Z2,X)]'"
      ]
     },
     "execution_count": 9,
     "metadata": {},
     "output_type": "execute_result"
    },
    {
     "data": {
      "image/png": "[encoded data removed]",
      "text/plain": [
       "<Figure size 432x288 with 1 Axes>"
      ]
     },
     "metadata": {},
     "output_type": "display_data"
    }
   ],
   "source": [
    "dag = get_example_figure_1_graph()\n",
    "draw(dag)\n",
    "identify(dag, 'X')"
   ]
  },
  {
   "cell_type": "code",
   "execution_count": 10,
   "metadata": {},
   "outputs": [
    {
     "data": {
      "text/plain": [
       "'P(Z1|U2,X) SUM_X P(Z1,Z2,Y,X) / [P(Z1|U2,X)]'"
      ]
     },
     "execution_count": 10,
     "metadata": {},
     "output_type": "execute_result"
    },
    {
     "data": {
      "image/png": "[encoded data removed]",
      "text/plain": [
       "<Figure size 432x288 with 1 Axes>"
      ]
     },
     "metadata": {},
     "output_type": "display_data"
    }
   ],
   "source": [
    "dag = get_example_figure_2_graph()\n",
    "draw(dag)\n",
    "identify(dag, 'X')"
   ]
  },
  {
   "cell_type": "code",
   "execution_count": 11,
   "metadata": {},
   "outputs": [
    {
     "data": {
      "text/plain": [
       "'P(X2|U2,X1) SUM_X1 P(X2,X3,X4,X1,Y) / [P(X2|U2,X1)]'"
      ]
     },
     "execution_count": 11,
     "metadata": {},
     "output_type": "execute_result"
    },
    {
     "data": {
      "image/png": "[encoded data removed]",
      "text/plain": [
       "<Figure size 432x288 with 1 Axes>"
      ]
     },
     "metadata": {},
     "output_type": "display_data"
    }
   ],
   "source": [
    "dag = get_example_figure_3_graph()\n",
    "draw(dag)\n",
    "identify(dag, 'X1')"
   ]
  },
  {
   "cell_type": "markdown",
   "metadata": {},
   "source": [
    "# References\n",
    "\n",
    "<a id=\"pearl_1995\"></a>[Pearl, 1995] <a href=\"http://bayes.cs.ucla.edu/R218-B.pdf\">Causal diagrams for empirical research</a>\n",
    "\n",
    "<a id=\"huang_2006\"></a>[Huang and Valtorta, 2006] <a href=\"https://cse.sc.edu/~mgv/papers/HuangValtortaUAI06.pdf\">Pearl’s Calculus of Intervention Is Complete</a>\n",
    "\n",
    "<a id=\"shpitser_2006\"></a>[Shpitser and Pearl, 2006] <a href=\"https://ftp.cs.ucla.edu/pub/stat_ser/r327.pdf\">Identification of Joint Interventional Distributions\n",
    "in Recursive Semi-Markovian Causal Models</a>\n",
    "\n",
    "<a id=\"nielsen_2012\"></a>[Nielsen and Pearl, 2012] <a href=\"http://www.michaelnielsen.org/ddi/guest-post-judea-pearl-on-correlation-causation-and-the-psychology-of-simpsons-paradox/\">Guest post: Judea Pearl on correlation, causation and the psychology of Simpson’s paradox</a>"
   ]
  }
 ],
 "metadata": {
  "kernelspec": {
   "display_name": "Python 3",
   "language": "python",
   "name": "python3"
  },
  "language_info": {
   "codemirror_mode": {
    "name": "ipython",
    "version": 3
   },
   "file_extension": ".py",
   "mimetype": "text/x-python",
   "name": "python",
   "nbconvert_exporter": "python",
   "pygments_lexer": "ipython3",
   "version": "3.7.7"
  }
 },
 "nbformat": 4,
 "nbformat_minor": 2
}
