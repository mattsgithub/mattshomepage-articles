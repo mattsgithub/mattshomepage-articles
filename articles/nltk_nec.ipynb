{
 "cells": [
  {
   "cell_type": "markdown",
   "metadata": {},
   "source": [
    "Python has a wonderful open-source library for performing NLP (natural language processing) on text. This library is called the <i>Natural Language Toolkit</i> (NLTK). This article is written for <i>NLTK v3.0.5</i>. NLTK gives you many features out-of-the-box. For example, you can obtain parts-of-speech (POS) tags of words in a sentence with the following code:"
   ]
  },
  {
   "cell_type": "code",
   "execution_count": 1,
   "metadata": {
    "collapsed": false
   },
   "outputs": [
    {
     "name": "stdout",
     "output_type": "stream",
     "text": [
      "[('This', 'DT'), ('is', 'VBZ'), ('a', 'DT'), ('sentence', 'NN'), ('.', '.')]\n"
     ]
    }
   ],
   "source": [
    "import nltk\n",
    "sentence = 'This is a sentence.'\n",
    "tokens = nltk.word_tokenize(sentence)\n",
    "tagged_tokens = nltk.pos_tag(tokens)\n",
    "print(tagged_tokens)"
   ]
  },
  {
   "cell_type": "markdown",
   "metadata": {},
   "source": [
    "The focus of this writing, is the NLTK's NE (named entity) chunker, which I will abbreviate as a <i>NEC</i>. A named entity is something like <b>Wal-Mart</b>, <b>Virginia</b>, or <b>Barack Obama</b>.\n",
    "</p>\n",
    "\n",
    "What a named entity is not, is something like <b>store</b>, <b>walked</b>, or <b>saw</b>. The definition of a chunk is a substring of text which cannot overlap another chunk. Consider the following sentence:\n",
    "\n",
    "<code>President Barack Obama is the 44th President of the United States of America.</code>"
   ]
  },
  {
   "cell_type": "markdown",
   "metadata": {},
   "source": [
    "In this example, you'll never end up receiving a chunk of <b>Obama</b> <i>and</i> <b>Barack Obama</b>. Can't happen--because in this example they would overlap. So the process of NE chunking, is identifying chunks in text which are NEs. Let's demonstrate the NLTK's NEC in action:"
   ]
  },
  {
   "cell_type": "code",
   "execution_count": 2,
   "metadata": {
    "collapsed": false
   },
   "outputs": [
    {
     "data": {
      "image/png": "[encoded data removed]",
      "text/plain": [
       "Tree('S', [('I', 'PRP'), ('am', 'VBP'), ('very', 'RB'), ('excited', 'VBN'), ('about', 'IN'), ('the', 'DT'), ('next', 'JJ'), ('generation', 'NN'), ('of', 'IN'), Tree('GPE', [('Apple', 'NNP')]), ('products', 'NNS'), ('.', '.')])"
      ]
     },
     "execution_count": 2,
     "metadata": {},
     "output_type": "execute_result"
    }
   ],
   "source": [
    "tokens = nltk.word_tokenize('I am very excited about the next generation of Apple products.')\n",
    "tokens = nltk.pos_tag(tokens)\n",
    "tree = nltk.ne_chunk(tokens)\n",
    "tree"
   ]
  },
  {
   "cell_type": "code",
   "execution_count": 3,
   "metadata": {
    "collapsed": false
   },
   "outputs": [
    {
     "data": {
      "image/png": "[encoded data removed]",
      "text/plain": [
       "Tree('S', [('I', 'PRP'), ('hate', 'VBP'), ('Apple', 'NNP'), ('products', 'NNS'), ('.', '.')])"
      ]
     },
     "execution_count": 3,
     "metadata": {},
     "output_type": "execute_result"
    }
   ],
   "source": [
    "tokens = nltk.word_tokenize('I hate Apple products.')\n",
    "tokens = nltk.pos_tag(tokens)\n",
    "tree = nltk.ne_chunk(tokens)\n",
    "tree"
   ]
  },
  {
   "cell_type": "markdown",
   "metadata": {},
   "source": [
    "These examples are chosen for a reason. Notice in both examples, the word <i>Apple</i> was POS tagged as <b>NNP</b> (NNP is the UPenn TreeBank II for a proper, singular noun). Also, both words begin with upper-case letters. So why did the NEC tag Apple as a NE in the first example, but not the second? Also, why did Apple get tagged as a GPE (geo-political entity)?"
   ]
  },
  {
   "cell_type": "markdown",
   "metadata": {},
   "source": [
    "<h1>Machine Learning</h1>\n",
    "The NLTK's NEC works by using a supervised machine learning algorithm known as a <b>MaxEnt classifier</b>. A MaxEnt classifier gets its name from <i>maximum entropy</i>. For a <i>discrete</i> probability distribution, maximum entropy is obtained when the distribution is uniform. A MaxEnt classifier is logistic regression. The difference is theoretical, because in the MaxEnt derivation, you assume maximum entropy and derive the sigmoid function. In the logistic regression derivation, you assume the sigmoid function. <a href=\"#ref1\">[J. Mount]</a>.\n",
    "<p>\n",
    "This machine learning model uses data from a corpus that has been manually annotated for NEs. A person, called an <b>annotator</b>, will read sentence after sentence and manually mark where the NEs are found in text. This is of course, a very tedious task. It is no wonder that most annotated corpora are not distributed for free. In fact, the NLTK does not provide you with the corpora it trained the NEC on (it was trained on data from ACE--Automatic Content Extraction). What the authors did provide, however, was a pickle file (a python serialized object) trained on this data. This pickle file, is a freeze-dried instance of the statistics needed for the MaxEnt classifier.\n",
    "<p>\n",
    "A note I'd like to add, is that the NLTK does provide NE annotated data found in corpora/ieer. However, unless that data is a good representation of the data you want to classify on, I wouldn't recommend using it. Also, you will have to write your own feature extractor for this, because the format in IEER is different than ACE."
   ]
  },
  {
   "cell_type": "markdown",
   "metadata": {},
   "source": [
    "<h1>Features</h1>\n",
    "The task of building a good supervised ML is identifying which features will work best. A feature is something you will compute statistics on. In NER, for example, one feature could be whether the word contains an upper-case letter (note: for Twitter data, this could be a bad feature). So what features are used in NLTK's NEC? I've listed them below:\n",
    "\n",
    "<ul>\n",
    "<li>\n",
    "The shape of the word (e.g., does it contain numbers? does it begin with a capital letter?)\n",
    "<li>\n",
    "The length of the word\n",
    "<li>\n",
    "The first three letters of the word\n",
    "<li>\n",
    "The last three letters of the word\n",
    "<li>\n",
    "The POS tag of the word\n",
    "<li>\n",
    "The word itself\n",
    "<li>\n",
    "Does the word exist in an English dictionary?\n",
    "<li>\n",
    "The tag of the word that precedes this word (i.e., was the previous word identified as a NE)\n",
    "<li>\n",
    "The POS tag of the preceding word\n",
    "<li>\n",
    "The POS tag of the following word\n",
    "<li>\n",
    "The word that precedes this word\n",
    "<li>\n",
    "The word that follows this word\n",
    "<li>\n",
    "The word combined with the POS tag of the following word\n",
    "<li>\n",
    "The POS tag of the word combined with the tag of the preceding word\n",
    "<li>\n",
    "The shape of the word combined with the tag of the preceding word\n",
    "</ul>\n",
    "<h1>Lifting the Hood</h1>\n",
    "As you can see, the list is long and will be hard to intuitively guess how the NEC will behave in different situations. To lift the hood on this, I've written some code using methods available in the NLTK to gain insight on why the NEC performs the way it does on different sentences:\n"
   ]
  },
  {
   "cell_type": "code",
   "execution_count": 4,
   "metadata": {
    "collapsed": false
   },
   "outputs": [],
   "source": [
    "# Loads the serialized NEChunkParser object\n",
    "chunker = nltk.data.load('chunkers/maxent_ne_chunker/english_ace_multiclass.pickle')\n",
    "\n",
    "# The MaxEnt classifier\n",
    "maxEnt = chunker._tagger.classifier()\n",
    "\n",
    "def maxEnt_report():\n",
    "    maxEnt = chunker._tagger.classifier()\n",
    "    print(\"These are the labels used by the NLTK\\'s NEC:\\n\")\n",
    "    print(maxEnt.labels())\n",
    "    print(\"These are the most informative features found in the ACE corpora:\\n\")\n",
    "    print(maxEnt.show_most_informative_features())\n",
    "\n",
    "def ne_report(sentence, report_all=False):\n",
    "    tokens = nltk.word_tokenize(sentence)\n",
    "    tagged_tokens = nltk.pos_tag(tokens)\n",
    "    tags = []\n",
    "    for i in xrange(len(tagged_tokens)):\n",
    "        featureset = chunker._tagger.feature_detector(tagged_tokens, i, tags)\n",
    "        tag = chunker._tagger.choose_tag(tagged_tokens, i, tags)\n",
    "        if tag != 'O' or report_all:\n",
    "            print '\\nExplanation on the why the word \\'' + tagged_tokens[i][0] + '\\' was tagged:'\n",
    "            featureset = chunker._tagger.feature_detector(tagged_tokens, i, tags)\n",
    "            maxEnt.explain(featureset)\n",
    "        tags.append(tag)"
   ]
  },
  {
   "cell_type": "markdown",
   "metadata": {},
   "source": [
    "The first function, <code>maxEnt_report()</code>, just displays information specific to the MaxEnt classifier. Here's how it works. If you execute:"
   ]
  },
  {
   "cell_type": "code",
   "execution_count": 5,
   "metadata": {
    "collapsed": false
   },
   "outputs": [
    {
     "name": "stdout",
     "output_type": "stream",
     "text": [
      "These are the labels used by the NLTK's NEC:\n",
      "\n",
      "['I-GSP', 'B-LOCATION', 'B-GPE', 'I-ORGANIZATION', 'I-PERSON', 'O', 'I-FACILITY', 'I-LOCATION', 'B-PERSON', 'B-FACILITY', 'B-GSP', 'B-ORGANIZATION', 'I-GPE']\n",
      "These are the most informative features found in the ACE corpora:\n",
      "\n",
      "  10.125 bias==True and label is 'O'\n",
      "   6.631 suffix3=='day' and label is 'O'\n",
      "  -6.207 bias==True and label is 'I-GSP'\n",
      "   5.628 prevtag=='O' and label is 'O'\n",
      "  -4.740 shape=='upcase' and label is 'O'\n",
      "   4.106 shape+prevtag=='<function shape at 0x8bde0d4>+O' and label is 'O'\n",
      "  -3.994 shape=='mixedcase' and label is 'O'\n",
      "   3.992 pos+prevtag=='NNP+B-PERSON' and label is 'I-PERSON'\n",
      "   3.890 prevtag=='I-ORGANIZATION' and label is 'I-ORGANIZATION'\n",
      "   3.879 shape+prevtag=='<function shape at 0x8bde0d4>+I-ORGANIZATION' and label is 'I-ORGANIZATION'\n",
      "None\n"
     ]
    }
   ],
   "source": [
    "maxEnt_report()"
   ]
  },
  {
   "cell_type": "markdown",
   "metadata": {},
   "source": [
    "The first paragraph reports the labels used in the NLTK's NEC. The 'I-', 'O', and 'B-' prefixes require some explaining. These come from a form of tagging known as IOB (inside, outside, and begin) tagging. When a chunk begins, the first word is prefixed with a 'B' to indicate this word is the beginning of a chunk. The next word, if it belongs to the same chunk, would be prefixed with 'I' to indicate it's part of the chunk, but not the beginning. If a word does not belong to a chunk, it is labeled as 'O', meaning it is outside. The purpose of this notation is to satisfy the definition of a chunk.\n",
    "\n",
    "Here's how the next method works:"
   ]
  },
  {
   "cell_type": "code",
   "execution_count": 6,
   "metadata": {
    "collapsed": false
   },
   "outputs": [
    {
     "name": "stdout",
     "output_type": "stream",
     "text": [
      "\n",
      "Explanation on the why the word 'Apple' was tagged:\n",
      "  Feature                                            B-GPE       O B-ORGAN   B-GSP\n",
      "  --------------------------------------------------------------------------------\n",
      "  prevtag=='O' (1)                                   3.767\n",
      "  shape=='upcase' (1)                                2.701\n",
      "  pos+prevtag=='NNP+O' (1)                           2.254\n",
      "  en-wordlist==False (1)                             2.095\n",
      "  label is 'B-GPE' (1)                              -2.005\n",
      "  bias==True (1)                                    -1.975\n",
      "  prevword=='of' (1)                                 0.742\n",
      "  pos=='NNP' (1)                                     0.681\n",
      "  nextpos=='nns' (1)                                 0.661\n",
      "  prevpos=='IN' (1)                                  0.311\n",
      "  wordlen==5 (1)                                     0.113\n",
      "  nextword=='products' (1)                           0.060\n",
      "  bias==True (1)                                            10.125\n",
      "  prevtag=='O' (1)                                           5.628\n",
      "  shape=='upcase' (1)                                       -4.740\n",
      "  prevpos=='IN' (1)                                         -1.668\n",
      "  label is 'O' (1)                                          -1.075\n",
      "  pos=='NNP' (1)                                            -1.024\n",
      "  suffix3=='ple' (1)                                         0.797\n",
      "  en-wordlist==False (1)                                     0.698\n",
      "  wordlen==5 (1)                                            -0.449\n",
      "  prevword=='of' (1)                                        -0.217\n",
      "  nextpos=='nns' (1)                                         0.104\n",
      "  prefix3=='app' (1)                                         0.089\n",
      "  pos+prevtag=='NNP+O' (1)                                   0.011\n",
      "  nextword=='products' (1)                                   0.005\n",
      "  prevtag=='O' (1)                                                   3.389\n",
      "  pos+prevtag=='NNP+O' (1)                                           1.725\n",
      "  bias==True (1)                                                     0.955\n",
      "  en-wordlist==False (1)                                             0.837\n",
      "  label is 'B-ORGANIZATION' (1)                                      0.718\n",
      "  nextpos=='nns' (1)                                                 0.365\n",
      "  wordlen==5 (1)                                                    -0.351\n",
      "  pos=='NNP' (1)                                                     0.174\n",
      "  prevpos=='IN' (1)                                                 -0.139\n",
      "  prevword=='of' (1)                                                 0.131\n",
      "  prefix3=='app' (1)                                                -0.126\n",
      "  shape=='upcase' (1)                                               -0.084\n",
      "  suffix3=='ple' (1)                                                -0.077\n",
      "  prevtag=='O' (1)                                                           2.925\n",
      "  pos+prevtag=='NNP+O' (1)                                                   2.213\n",
      "  shape=='upcase' (1)                                                        0.929\n",
      "  en-wordlist==False (1)                                                     0.891\n",
      "  bias==True (1)                                                            -0.592\n",
      "  label is 'B-GSP' (1)                                                      -0.565\n",
      "  prevpos=='IN' (1)                                                          0.410\n",
      "  nextpos=='nns' (1)                                                         0.399\n",
      "  pos=='NNP' (1)                                                             0.393\n",
      "  prevword=='of' (1)                                                         0.184\n",
      "  wordlen==5 (1)                                                             0.177\n",
      "  ---------------------------------------------------------------------------------\n",
      "  TOTAL:                                             9.406   8.283   7.515   7.366\n",
      "  PROBS:                                             0.453   0.208   0.122   0.110\n"
     ]
    }
   ],
   "source": [
    "ne_report('I am very excited about the next generation of Apple products.')"
   ]
  },
  {
   "cell_type": "markdown",
   "metadata": {},
   "source": [
    "It outputs only explanations for words that we tagged as a NE (if you want output for all words, regardless of whether it is a NE, set the second argument to True) I want to point out something here. The probabilities listed in the final row do not add up to one (they add up to ~0.89). This is because the output only displays the top four candidate labels.\n",
    "\n",
    "Try to run this on the sentence:\n",
    "\n",
    "<code>I hate Apple products</code>\n",
    "\n",
    "and see if you can identify the features which caused it to miss being tagged."
   ]
  },
  {
   "cell_type": "markdown",
   "metadata": {
    "collapsed": true
   },
   "source": [
    "<h1>References</h1>\n",
    "<p>\n",
    "<a id=\"ref1\"></a>[1] J. Mount, <a href=\"http://www.win-vector.com/dfiles/LogisticRegressionMaxEnt.pdf\">The equivalence of logistic regression and maximum entropy models</a>"
   ]
  }
 ],
 "metadata": {
  "kernelspec": {
   "display_name": "Python 2",
   "language": "python",
   "name": "python2"
  },
  "language_info": {
   "codemirror_mode": {
    "name": "ipython",
    "version": 2
   },
   "file_extension": ".py",
   "mimetype": "text/x-python",
   "name": "python",
   "nbconvert_exporter": "python",
   "pygments_lexer": "ipython2",
   "version": "2.7.10"
  }
 },
 "nbformat": 4,
 "nbformat_minor": 0
}
