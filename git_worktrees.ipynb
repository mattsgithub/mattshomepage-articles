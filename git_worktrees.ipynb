{
 "cells": [
  {
   "cell_type": "markdown",
   "metadata": {},
   "source": [
    "Ever wanted to have multiple branches checked out in git?\n",
    "\n",
    "Since July 2015 (https://github.com/blog/2042-git-2-5-including-multiple-worktrees-and-triangular-workflows), git worktrees was introduced to solve this problem. Let me show you how to use this with some examples. I will create a git repo called \"foo\":"
   ]
  },
  {
   "cell_type": "markdown",
   "metadata": {},
   "source": [
    "<code>$ git init ~/foo</code>"
   ]
  },
  {
   "cell_type": "markdown",
   "metadata": {},
   "source": [
    "When I do this, my git repo is now located at <code>~/foo/.git</code> If I view what's under the .git folder, I have the following files:\n",
    "\n",
    "* HEAD\n",
    "* config\n",
    "* description\n",
    "\n",
    "And the following folders:\n",
    "\n",
    "* branches\n",
    "* hooks\n",
    "* info\n",
    "* objects\n",
    "* refs"
   ]
  },
  {
   "cell_type": "markdown",
   "metadata": {},
   "source": [
    "I will add one file to master and commit it:"
   ]
  },
  {
   "cell_type": "markdown",
   "metadata": {},
   "source": [
    "<code>$ touch a.txt; git add a.txt; git commit -m \"First checkin\"</code>"
   ]
  },
  {
   "cell_type": "markdown",
   "metadata": {},
   "source": [
    "OK, now let's create a branch named \"dev\":"
   ]
  },
  {
   "cell_type": "markdown",
   "metadata": {},
   "source": [
    "<code>$ git branch dev</code>"
   ]
  },
  {
   "cell_type": "markdown",
   "metadata": {},
   "source": [
    "Now, let's create a folder <code>~/foo/worktrees</code> called \"worktrees\" and switch to it (the name of this folder doesn't matter)"
   ]
  },
  {
   "cell_type": "markdown",
   "metadata": {},
   "source": [
    "<code>$ mkdir worktrees; cd worktrees</code>"
   ]
  },
  {
   "cell_type": "markdown",
   "metadata": {},
   "source": [
    "From here, we now run the following git command:"
   ]
  },
  {
   "cell_type": "markdown",
   "metadata": {},
   "source": [
    "<code>$ git worktree add dev-branch dev</code>\n",
    "\n",
    "After this, you'll get some output like the following:"
   ]
  },
  {
   "cell_type": "raw",
   "metadata": {},
   "source": [
    "Preparing worktrees/dev-branch (identifier dev)\n",
    "HEAD is now at 9aaccf4 First checkin"
   ]
  },
  {
   "cell_type": "markdown",
   "metadata": {},
   "source": [
    "The git worktree takes the following form:\n",
    "\n",
    "<code>git worktree add [name-of-our-worktree] [branch-name]</code>\n",
    "\n",
    " You'll see a new directory appear named \"dev-branch\". If you nagivate inside, you are now in the \"dev\" working directory! But you can back out, and be in the \"master\" working directory. So in git, we refer to the working directories created by git worktree as <b>linked working trees</b>. This is distinquished from our <b>main working tree</b> which in this case is master.\n",
    "\n",
    "What happens if you try to create a linked working tree for master? Note that our main working tree is master. Well, we can run:"
   ]
  },
  {
   "cell_type": "markdown",
   "metadata": {},
   "source": [
    "<code>$ git worktree add master master</code>"
   ]
  },
  {
   "cell_type": "markdown",
   "metadata": {},
   "source": [
    "We get the following output:"
   ]
  },
  {
   "cell_type": "markdown",
   "metadata": {},
   "source": [
    "<code>$ fatal: 'master' is already checked out at '~/foo'</code>"
   ]
  },
  {
   "cell_type": "markdown",
   "metadata": {},
   "source": [
    "Git doesn't allow us to have two working directories that would be the same. However, if you added the -f flag, you can force git to do this anyway. I'm not aware of a use case where you would want to do this."
   ]
  },
  {
   "cell_type": "markdown",
   "metadata": {},
   "source": [
    "OK, another thing to notice, is that there is a file in our linked working tree named \".git\". What is this file? If we look inside, we find:"
   ]
  },
  {
   "cell_type": "markdown",
   "metadata": {},
   "source": [
    "<code>$gitdir: ~/foo/.git/worktrees/dev-branch</code>"
   ]
  },
  {
   "cell_type": "markdown",
   "metadata": {},
   "source": [
    "If we now look back in our <code>~/foo/.git</code>, we find a new folder called \"worktrees\". Insider this folder, there is a folder for each linked working tree. If we look inside the \"dev\" folder, we see the following files:\n",
    "\n",
    "* HEAD\n",
    "* ORIG_HEAD\n",
    "* gitdir\n",
    "* commondir\n",
    "* index\n",
    "\n",
    "and folders:\n",
    "\n",
    "* logs"
   ]
  },
  {
   "cell_type": "markdown",
   "metadata": {},
   "source": [
    "If we look at contents of commondir, it is \"../..\". It's relative path, and this relative path is relative to GIT_DIR, which in this case is <code>~/foo/.git/worktrees/dev-branch</code>. Thus, GIT_COMMON_DIR points to <code>~/foo/.git</code>"
   ]
  },
  {
   "cell_type": "markdown",
   "metadata": {},
   "source": [
    "# Viewing Worktrees"
   ]
  },
  {
   "cell_type": "markdown",
   "metadata": {},
   "source": [
    "At any point, if you want to list all working trees (including the main working tree), run:"
   ]
  },
  {
   "cell_type": "markdown",
   "metadata": {},
   "source": [
    "<code>$ git worktree list</code>"
   ]
  },
  {
   "cell_type": "markdown",
   "metadata": {},
   "source": [
    "This yields (given our current setup):"
   ]
  },
  {
   "cell_type": "markdown",
   "metadata": {},
   "source": [
    "<code>~/foo/.git           (bare)\n",
    "~/foo/worktrees/dev-branch  9aaccf4 [dev]\n",
    "</code>"
   ]
  },
  {
   "cell_type": "markdown",
   "metadata": {},
   "source": [
    "Note the main working directory is included in this list"
   ]
  },
  {
   "cell_type": "markdown",
   "metadata": {},
   "source": [
    "# Deleting Worktrees"
   ]
  },
  {
   "cell_type": "markdown",
   "metadata": {},
   "source": [
    "To delete a linked working tree, simply delete the folder. When you do this, you'll notice that in the main git directory, the worktree information is still there. If you want to clean this up, run:"
   ]
  },
  {
   "cell_type": "markdown",
   "metadata": {},
   "source": [
    "<code>git worktree prune</code>"
   ]
  },
  {
   "cell_type": "markdown",
   "metadata": {},
   "source": [
    "Else, git will clean it up automatically based on the value set in your git config for <code>gc.worktreePruneExpire</code>"
   ]
  },
  {
   "cell_type": "markdown",
   "metadata": {},
   "source": [
    "# Moving Worktrees"
   ]
  },
  {
   "cell_type": "markdown",
   "metadata": {},
   "source": [
    "What happens if you move your working directory? Let's do this:"
   ]
  },
  {
   "cell_type": "markdown",
   "metadata": {},
   "source": [
    "<code>$ mv dev-branch dev-branch-move</code>"
   ]
  },
  {
   "cell_type": "markdown",
   "metadata": {},
   "source": [
    "Now, if we run <code>git worktree list</code> it still reports <code>~/foo/worktrees/dev-branch</code> as the path\n",
    "\n",
    "To update, I modified the following items:\n",
    "\n",
    "* <code>~/foo/worktrees/dev-branch-move/.git</code>\n",
    "* <code>~/foo/.git/worktrees/dev-branch --> ~/foo/.git/worktrees/dev-branch-move</code>\n",
    "* <code>~/foo/.git/worktrees/dev-branch-move/gitdir</code>\n",
    "\n",
    "Also, I suppose you would need to update <code>~/foo/.git/worktrees/dev-branch-move/gitdir</code> if you moved the linked directory tree to a different directory"
   ]
  },
  {
   "cell_type": "markdown",
   "metadata": {},
   "source": [
    "# What's next?\n",
    "In https://git-scm.com/docs/git-worktree, it is addressed that <code>remove</code> and <code>mv</code> commands would be good for <code>git worktree</code>, and I agree. Right now, it's a set of manual steps."
   ]
  }
 ],
 "metadata": {
  "kernelspec": {
   "display_name": "Python 3",
   "language": "python",
   "name": "python3"
  },
  "language_info": {
   "codemirror_mode": {
    "name": "ipython",
    "version": 3
   },
   "file_extension": ".py",
   "mimetype": "text/x-python",
   "name": "python",
   "nbconvert_exporter": "python",
   "pygments_lexer": "ipython3",
   "version": "3.6.4"
  }
 },
 "nbformat": 4,
 "nbformat_minor": 2
}
